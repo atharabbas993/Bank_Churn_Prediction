{
  "nbformat": 4,
  "nbformat_minor": 0,
  "metadata": {
    "colab": {
      "private_outputs": true,
      "provenance": [],
      "gpuType": "T4",
      "toc_visible": true,
      "include_colab_link": true
    },
    "kernelspec": {
      "name": "python3",
      "display_name": "Python 3"
    },
    "language_info": {
      "name": "python"
    },
    "accelerator": "GPU"
  },
  "cells": [
    {
      "cell_type": "markdown",
      "metadata": {
        "id": "view-in-github",
        "colab_type": "text"
      },
      "source": [
        "<a href=\"https://colab.research.google.com/github/atharabbas993/Bank_Churn_Prediction/blob/main/Bank_Churn_Prediction.ipynb\" target=\"_parent\"><img src=\"https://colab.research.google.com/assets/colab-badge.svg\" alt=\"Open In Colab\"/></a>"
      ]
    },
    {
      "cell_type": "markdown",
      "source": [
        "# Import Libraries"
      ],
      "metadata": {
        "id": "2izRZF4r-k6j"
      }
    },
    {
      "cell_type": "code",
      "source": [
        "#using numpy for numerical computation\n",
        "import numpy as np\n",
        "\n",
        "#using pandas to load dataset and also perform preprocessing\n",
        "import pandas as pd"
      ],
      "metadata": {
        "id": "nPD-427g-oCB"
      },
      "execution_count": null,
      "outputs": []
    },
    {
      "cell_type": "markdown",
      "source": [
        "#Load Dataset"
      ],
      "metadata": {
        "id": "DuYADd6v_EmL"
      }
    },
    {
      "cell_type": "code",
      "source": [
        "#using pandas to load dataset\n",
        "\n",
        "data_frame = pd.read_csv('Churn_Modelling.csv')"
      ],
      "metadata": {
        "id": "ZrxXa-SD_IhF"
      },
      "execution_count": null,
      "outputs": []
    },
    {
      "cell_type": "markdown",
      "source": [
        "# Preprocessing"
      ],
      "metadata": {
        "id": "4oIoYO35Aln0"
      }
    },
    {
      "cell_type": "code",
      "source": [
        "#take 3 Random sample from data\n",
        "data_frame.sample(3)"
      ],
      "metadata": {
        "id": "uQN2y2hGAkDP"
      },
      "execution_count": null,
      "outputs": []
    },
    {
      "cell_type": "code",
      "source": [
        "#drop unecessery columns from dataset\n",
        "data_frame.drop(columns=['RowNumber','CustomerId','Surname'], inplace=True)"
      ],
      "metadata": {
        "id": "_jbLQiXY6s_f"
      },
      "execution_count": null,
      "outputs": []
    },
    {
      "cell_type": "code",
      "source": [
        "#Lets check the new dataframe\n",
        "data_frame.head(3)"
      ],
      "metadata": {
        "id": "9csYR21V64fM"
      },
      "execution_count": null,
      "outputs": []
    },
    {
      "cell_type": "code",
      "source": [
        "data_frame.shape"
      ],
      "metadata": {
        "id": "WzstSCvu9-5m"
      },
      "execution_count": null,
      "outputs": []
    },
    {
      "cell_type": "markdown",
      "source": [
        "#One Hot Encoding"
      ],
      "metadata": {
        "id": "9eJuKJim7qhH"
      }
    },
    {
      "cell_type": "code",
      "source": [
        "data_frame = pd.get_dummies(data_frame, columns=['Geography','Gender'], drop_first=True)"
      ],
      "metadata": {
        "id": "mzevU_w77uW_"
      },
      "execution_count": null,
      "outputs": []
    },
    {
      "cell_type": "code",
      "source": [
        "data_frame"
      ],
      "metadata": {
        "id": "na-giXIz8BX-"
      },
      "execution_count": null,
      "outputs": []
    },
    {
      "cell_type": "markdown",
      "source": [
        "# Input/Output features"
      ],
      "metadata": {
        "id": "bvuAzkw09GqA"
      }
    },
    {
      "cell_type": "code",
      "source": [
        "#input features\n",
        "x = data_frame.drop(columns=['Exited'])\n",
        "\n",
        "#output feature\n",
        "y = data_frame['Exited']"
      ],
      "metadata": {
        "id": "kn__5oyP8MZx"
      },
      "execution_count": null,
      "outputs": []
    },
    {
      "cell_type": "markdown",
      "source": [
        "#Split data"
      ],
      "metadata": {
        "id": "HUOu5Y2g9RUv"
      }
    },
    {
      "cell_type": "code",
      "source": [
        "from sklearn.model_selection import train_test_split\n",
        "\n",
        "X_train, x_test, Y_train, y_test = train_test_split(x, y, test_size=0.2, random_state=0)"
      ],
      "metadata": {
        "id": "zYdAYqOb9TsC"
      },
      "execution_count": null,
      "outputs": []
    },
    {
      "cell_type": "markdown",
      "source": [
        "# Feature Scaling"
      ],
      "metadata": {
        "id": "3Qx4UMgg-gvf"
      }
    },
    {
      "cell_type": "code",
      "source": [
        "from sklearn.preprocessing import StandardScaler\n",
        "\n",
        "scaler = StandardScaler()\n",
        "\n",
        "x_train_trf = scaler.fit_transform(X_train)\n",
        "x_test_trf  = scaler.transform(x_test)"
      ],
      "metadata": {
        "id": "i3hf5GFm-kET"
      },
      "execution_count": null,
      "outputs": []
    },
    {
      "cell_type": "code",
      "source": [],
      "metadata": {
        "id": "fzNNO-6n_Msw"
      },
      "execution_count": null,
      "outputs": []
    },
    {
      "cell_type": "markdown",
      "source": [
        "# Import Libraries of Deep Learning"
      ],
      "metadata": {
        "id": "WwtQUcdC_M8K"
      }
    },
    {
      "cell_type": "code",
      "source": [
        "#tensorflow are used to build and train neural networks\n",
        "import tensorflow\n",
        "\n",
        "#keras as fast API which provide interface developer to build and train neural networks\n",
        "from tensorflow import keras\n",
        "\n",
        "#creating layers in neural network in a sequence\n",
        "from tensorflow.keras import Sequential\n",
        "\n",
        "#Using dense to connect layers with each others\n",
        "from tensorflow.keras.layers import Dense"
      ],
      "metadata": {
        "id": "qC5IlKug_SVv"
      },
      "execution_count": null,
      "outputs": []
    },
    {
      "cell_type": "markdown",
      "source": [
        "# Create Neural Networks"
      ],
      "metadata": {
        "id": "AWzLikGLA4mO"
      }
    },
    {
      "cell_type": "code",
      "source": [
        "from tensorflow.keras import Sequential\n",
        "\n",
        "model = Sequential()\n",
        "\n",
        "\n",
        "#______Input Layer_____\n",
        "\n",
        "model.add(Dense(11, activation='sigmoid', input_dim=11))\n",
        "\n",
        "#______Hidden Layers______\n",
        "\n",
        "model.add(Dense(11, activation='sigmoid'))\n",
        "\n",
        "#_____Output Layer______\n",
        "\n",
        "model.add(Dense(1, activation='sigmoid'))"
      ],
      "metadata": {
        "id": "_cQ07p2FAqEq"
      },
      "execution_count": null,
      "outputs": []
    },
    {
      "cell_type": "markdown",
      "source": [
        "#Summary"
      ],
      "metadata": {
        "id": "AlXRhROpFspj"
      }
    },
    {
      "cell_type": "code",
      "source": [
        "model.summary()"
      ],
      "metadata": {
        "id": "VYWm6VzwBFGN"
      },
      "execution_count": null,
      "outputs": []
    },
    {
      "cell_type": "markdown",
      "source": [
        "#Start Training Process"
      ],
      "metadata": {
        "id": "szLAOLyzF_9T"
      }
    },
    {
      "cell_type": "code",
      "source": [
        "model.compile(optimizer='Adam', loss='binary_crossentropy',metrics=['accuracy'])"
      ],
      "metadata": {
        "id": "GmV4kiWRGD_p"
      },
      "execution_count": null,
      "outputs": []
    },
    {
      "cell_type": "code",
      "source": [
        "history = model.fit(X_train, Y_train, epochs=10, validation_split=0.2)"
      ],
      "metadata": {
        "id": "0387nki4GZVK"
      },
      "execution_count": null,
      "outputs": []
    },
    {
      "cell_type": "markdown",
      "source": [
        "#Prediction\n",
        "\n"
      ],
      "metadata": {
        "id": "qHufjQYxH8Jb"
      }
    },
    {
      "cell_type": "code",
      "source": [
        "y_pred = model.predict(x_test)"
      ],
      "metadata": {
        "id": "bYnTFnEDH_HU"
      },
      "execution_count": null,
      "outputs": []
    },
    {
      "cell_type": "code",
      "source": [
        "y_pred = y_pred.argmax(axis=-1)"
      ],
      "metadata": {
        "id": "agoV-BzDKIzf"
      },
      "execution_count": null,
      "outputs": []
    },
    {
      "cell_type": "markdown",
      "source": [
        "#Accuracy Score\n"
      ],
      "metadata": {
        "id": "hZ8eml93Ib-R"
      }
    },
    {
      "cell_type": "code",
      "source": [
        "from sklearn.metrics import accuracy_score\n",
        "\n",
        "accuracy_score = accuracy_score(y_test, y_pred)"
      ],
      "metadata": {
        "id": "0OKVM-q-Jts6"
      },
      "execution_count": null,
      "outputs": []
    },
    {
      "cell_type": "markdown",
      "source": [
        "#Plotting Graph"
      ],
      "metadata": {
        "id": "55tORVnOLa7T"
      }
    },
    {
      "cell_type": "code",
      "source": [
        "import matplotlib.pyplot as plt\n",
        "\n",
        "plt.plot(history.history['loss'])\n",
        "plt.plot(history.history['val_loss'])"
      ],
      "metadata": {
        "id": "Bzbfr_AoLcqk"
      },
      "execution_count": null,
      "outputs": []
    },
    {
      "cell_type": "code",
      "source": [
        "plt.plot(history.history['accuracy'])\n",
        "plt.plot(history.history['val_accuracy'])"
      ],
      "metadata": {
        "id": "QfHYcG94MbYy"
      },
      "execution_count": null,
      "outputs": []
    }
  ]
}